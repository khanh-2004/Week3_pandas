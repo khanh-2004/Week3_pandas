{
  "cells": [
    {
      "cell_type": "markdown",
      "metadata": {
        "pycharm": {
          "name": "#%% md\n"
        },
        "id": "5rUf9h0dJQA0"
      },
      "source": [
        "# Exercise 1"
      ]
    },
    {
      "cell_type": "markdown",
      "metadata": {
        "pycharm": {
          "name": "#%% md\n"
        },
        "id": "AqYPajVXJQA3"
      },
      "source": [
        "### Step 1. Go to https://www.kaggle.com/openfoodfacts/world-food-facts/data"
      ]
    },
    {
      "cell_type": "markdown",
      "metadata": {
        "pycharm": {
          "name": "#%% md\n"
        },
        "id": "ND8PNCGmJQA4"
      },
      "source": [
        "### Step 2. Download the dataset to your computer and unzip it."
      ]
    },
    {
      "cell_type": "markdown",
      "metadata": {
        "pycharm": {
          "name": "#%% md\n"
        },
        "id": "273UG_rBJQA5"
      },
      "source": [
        "### Step 3. Use the tsv file and assign it to a dataframe called food"
      ]
    },
    {
      "cell_type": "code",
      "execution_count": null,
      "metadata": {
        "collapsed": true,
        "pycharm": {
          "name": "#%%\n"
        },
        "colab": {
          "base_uri": "https://localhost:8080/"
        },
        "id": "qHyZAJJ9JQA6",
        "outputId": "d2390282-77d0-420b-f3ab-a0c76c42837e"
      },
      "outputs": [
        {
          "output_type": "stream",
          "name": "stderr",
          "text": [
            "<ipython-input-1-05cbdb2de763>:3: DtypeWarning: Columns (19,20,24,25,26,28,37,38,39,48) have mixed types. Specify dtype option on import or set low_memory=False.\n",
            "  food = pd.read_csv(\"/content/en.openfoodfacts.org.products.tsv\", sep='\\t')\n"
          ]
        }
      ],
      "source": [
        "import pandas as pd\n",
        "\n",
        "food = pd.read_csv(\"/content/en.openfoodfacts.org.products.tsv\", sep='\\t')\n"
      ]
    },
    {
      "cell_type": "markdown",
      "metadata": {
        "pycharm": {
          "name": "#%% md\n"
        },
        "id": "Z6tlDaYZJQA7"
      },
      "source": [
        "### Step 4. See the first 5 entries"
      ]
    },
    {
      "cell_type": "code",
      "execution_count": null,
      "metadata": {
        "collapsed": true,
        "pycharm": {
          "name": "#%%\n"
        },
        "colab": {
          "base_uri": "https://localhost:8080/"
        },
        "id": "Oh_sANnNJQA7",
        "outputId": "56229827-06ad-4329-ede9-ad9017e5c6b1"
      },
      "outputs": [
        {
          "output_type": "stream",
          "name": "stdout",
          "text": [
            "    code                                                url  \\\n",
            "0   3087  http://world-en.openfoodfacts.org/product/0000...   \n",
            "1   4530  http://world-en.openfoodfacts.org/product/0000...   \n",
            "2   4559  http://world-en.openfoodfacts.org/product/0000...   \n",
            "3  16087  http://world-en.openfoodfacts.org/product/0000...   \n",
            "4  16094  http://world-en.openfoodfacts.org/product/0000...   \n",
            "\n",
            "                      creator   created_t      created_datetime  \\\n",
            "0  openfoodfacts-contributors  1474103866  2016-09-17T09:17:46Z   \n",
            "1             usda-ndb-import  1489069957  2017-03-09T14:32:37Z   \n",
            "2             usda-ndb-import  1489069957  2017-03-09T14:32:37Z   \n",
            "3             usda-ndb-import  1489055731  2017-03-09T10:35:31Z   \n",
            "4             usda-ndb-import  1489055653  2017-03-09T10:34:13Z   \n",
            "\n",
            "   last_modified_t last_modified_datetime                    product_name  \\\n",
            "0       1474103893   2016-09-17T09:18:13Z              Farine de blé noir   \n",
            "1       1489069957   2017-03-09T14:32:37Z  Banana Chips Sweetened (Whole)   \n",
            "2       1489069957   2017-03-09T14:32:37Z                         Peanuts   \n",
            "3       1489055731   2017-03-09T10:35:31Z          Organic Salted Nut Mix   \n",
            "4       1489055653   2017-03-09T10:34:13Z                 Organic Polenta   \n",
            "\n",
            "  generic_name quantity  ... fruits-vegetables-nuts_100g  \\\n",
            "0          NaN      1kg  ...                         NaN   \n",
            "1          NaN      NaN  ...                         NaN   \n",
            "2          NaN      NaN  ...                         NaN   \n",
            "3          NaN      NaN  ...                         NaN   \n",
            "4          NaN      NaN  ...                         NaN   \n",
            "\n",
            "  fruits-vegetables-nuts-estimate_100g collagen-meat-protein-ratio_100g  \\\n",
            "0                                  NaN                              NaN   \n",
            "1                                  NaN                              NaN   \n",
            "2                                  NaN                              NaN   \n",
            "3                                  NaN                              NaN   \n",
            "4                                  NaN                              NaN   \n",
            "\n",
            "  cocoa_100g chlorophyl_100g carbon-footprint_100g nutrition-score-fr_100g  \\\n",
            "0        NaN             NaN                   NaN                     NaN   \n",
            "1        NaN             NaN                   NaN                    14.0   \n",
            "2        NaN             NaN                   NaN                     0.0   \n",
            "3        NaN             NaN                   NaN                    12.0   \n",
            "4        NaN             NaN                   NaN                     NaN   \n",
            "\n",
            "  nutrition-score-uk_100g glycemic-index_100g water-hardness_100g  \n",
            "0                     NaN                 NaN                 NaN  \n",
            "1                    14.0                 NaN                 NaN  \n",
            "2                     0.0                 NaN                 NaN  \n",
            "3                    12.0                 NaN                 NaN  \n",
            "4                     NaN                 NaN                 NaN  \n",
            "\n",
            "[5 rows x 163 columns]\n"
          ]
        }
      ],
      "source": [
        "print(food.head())\n"
      ]
    },
    {
      "cell_type": "markdown",
      "metadata": {
        "pycharm": {
          "name": "#%% md\n"
        },
        "id": "dbhOTr_jJQA8"
      },
      "source": [
        "### Step 5. What is the number of observations in the dataset?"
      ]
    },
    {
      "cell_type": "code",
      "execution_count": null,
      "metadata": {
        "collapsed": true,
        "pycharm": {
          "name": "#%%\n"
        },
        "colab": {
          "base_uri": "https://localhost:8080/"
        },
        "id": "CayBgZz-JQA8",
        "outputId": "7f87355f-d508-43fe-b448-dfc0c663d2d5"
      },
      "outputs": [
        {
          "output_type": "stream",
          "name": "stdout",
          "text": [
            "Số lượng quan sát: 69938\n"
          ]
        }
      ],
      "source": [
        "print(\"Số lượng quan sát:\", food.shape[0])\n"
      ]
    },
    {
      "cell_type": "markdown",
      "metadata": {
        "pycharm": {
          "name": "#%% md\n"
        },
        "id": "bDqUKCQoJQA9"
      },
      "source": [
        "### Step 6. What is the number of columns in the dataset?"
      ]
    },
    {
      "cell_type": "code",
      "execution_count": null,
      "metadata": {
        "collapsed": true,
        "pycharm": {
          "name": "#%%\n"
        },
        "colab": {
          "base_uri": "https://localhost:8080/"
        },
        "id": "q4oekO20JQA9",
        "outputId": "c59db509-aa85-4366-d6ba-9114b2c3e693"
      },
      "outputs": [
        {
          "output_type": "stream",
          "name": "stdout",
          "text": [
            "Số lượng cột: 163\n"
          ]
        }
      ],
      "source": [
        "print(\"Số lượng cột:\", food.shape[1])\n"
      ]
    },
    {
      "cell_type": "markdown",
      "metadata": {
        "pycharm": {
          "name": "#%% md\n"
        },
        "id": "1CjURZkUJQA-"
      },
      "source": [
        "### Step 7. Print the name of all the columns."
      ]
    },
    {
      "cell_type": "code",
      "execution_count": null,
      "metadata": {
        "collapsed": true,
        "pycharm": {
          "name": "#%%\n"
        },
        "colab": {
          "base_uri": "https://localhost:8080/"
        },
        "id": "fEIPxHpTJQA-",
        "outputId": "f3fceb77-8349-49bb-ea1c-9757c4aadec1"
      },
      "outputs": [
        {
          "output_type": "stream",
          "name": "stdout",
          "text": [
            "Tên các cột:\n",
            "['code', 'url', 'creator', 'created_t', 'created_datetime', 'last_modified_t', 'last_modified_datetime', 'product_name', 'generic_name', 'quantity', 'packaging', 'packaging_tags', 'brands', 'brands_tags', 'categories', 'categories_tags', 'categories_en', 'origins', 'origins_tags', 'manufacturing_places', 'manufacturing_places_tags', 'labels', 'labels_tags', 'labels_en', 'emb_codes', 'emb_codes_tags', 'first_packaging_code_geo', 'cities', 'cities_tags', 'purchase_places', 'stores', 'countries', 'countries_tags', 'countries_en', 'ingredients_text', 'allergens', 'allergens_en', 'traces', 'traces_tags', 'traces_en', 'serving_size', 'no_nutriments', 'additives_n', 'additives', 'additives_tags', 'additives_en', 'ingredients_from_palm_oil_n', 'ingredients_from_palm_oil', 'ingredients_from_palm_oil_tags', 'ingredients_that_may_be_from_palm_oil_n', 'ingredients_that_may_be_from_palm_oil', 'ingredients_that_may_be_from_palm_oil_tags', 'nutrition_grade_uk', 'nutrition_grade_fr', 'pnns_groups_1', 'pnns_groups_2', 'states', 'states_tags', 'states_en', 'main_category', 'main_category_en', 'image_url', 'image_small_url', 'energy_100g', 'energy-from-fat_100g', 'fat_100g', 'saturated-fat_100g', '-butyric-acid_100g', '-caproic-acid_100g', '-caprylic-acid_100g', '-capric-acid_100g', '-lauric-acid_100g', '-myristic-acid_100g', '-palmitic-acid_100g', '-stearic-acid_100g', '-arachidic-acid_100g', '-behenic-acid_100g', '-lignoceric-acid_100g', '-cerotic-acid_100g', '-montanic-acid_100g', '-melissic-acid_100g', 'monounsaturated-fat_100g', 'polyunsaturated-fat_100g', 'omega-3-fat_100g', '-alpha-linolenic-acid_100g', '-eicosapentaenoic-acid_100g', '-docosahexaenoic-acid_100g', 'omega-6-fat_100g', '-linoleic-acid_100g', '-arachidonic-acid_100g', '-gamma-linolenic-acid_100g', '-dihomo-gamma-linolenic-acid_100g', 'omega-9-fat_100g', '-oleic-acid_100g', '-elaidic-acid_100g', '-gondoic-acid_100g', '-mead-acid_100g', '-erucic-acid_100g', '-nervonic-acid_100g', 'trans-fat_100g', 'cholesterol_100g', 'carbohydrates_100g', 'sugars_100g', '-sucrose_100g', '-glucose_100g', '-fructose_100g', '-lactose_100g', '-maltose_100g', '-maltodextrins_100g', 'starch_100g', 'polyols_100g', 'fiber_100g', 'proteins_100g', 'casein_100g', 'serum-proteins_100g', 'nucleotides_100g', 'salt_100g', 'sodium_100g', 'alcohol_100g', 'vitamin-a_100g', 'beta-carotene_100g', 'vitamin-d_100g', 'vitamin-e_100g', 'vitamin-k_100g', 'vitamin-c_100g', 'vitamin-b1_100g', 'vitamin-b2_100g', 'vitamin-pp_100g', 'vitamin-b6_100g', 'vitamin-b9_100g', 'folates_100g', 'vitamin-b12_100g', 'biotin_100g', 'pantothenic-acid_100g', 'silica_100g', 'bicarbonate_100g', 'potassium_100g', 'chloride_100g', 'calcium_100g', 'phosphorus_100g', 'iron_100g', 'magnesium_100g', 'zinc_100g', 'copper_100g', 'manganese_100g', 'fluoride_100g', 'selenium_100g', 'chromium_100g', 'molybdenum_100g', 'iodine_100g', 'caffeine_100g', 'taurine_100g', 'ph_100g', 'fruits-vegetables-nuts_100g', 'fruits-vegetables-nuts-estimate_100g', 'collagen-meat-protein-ratio_100g', 'cocoa_100g', 'chlorophyl_100g', 'carbon-footprint_100g', 'nutrition-score-fr_100g', 'nutrition-score-uk_100g', 'glycemic-index_100g', 'water-hardness_100g']\n"
          ]
        }
      ],
      "source": [
        "print(\"Tên các cột:\")\n",
        "print(food.columns.tolist())\n"
      ]
    },
    {
      "cell_type": "markdown",
      "metadata": {
        "pycharm": {
          "name": "#%% md\n"
        },
        "id": "AlWtPwd-JQA-"
      },
      "source": [
        "### Step 8. What is the name of 105th column?"
      ]
    },
    {
      "cell_type": "code",
      "source": [
        "print(\"Tên cột thứ 105:\", food.columns[104])\n"
      ],
      "metadata": {
        "colab": {
          "base_uri": "https://localhost:8080/"
        },
        "id": "_CBeewDXKIpv",
        "outputId": "47284878-f2c7-4c1b-e007-79a5608528c5"
      },
      "execution_count": null,
      "outputs": [
        {
          "output_type": "stream",
          "name": "stdout",
          "text": [
            "Tên cột thứ 105: -glucose_100g\n"
          ]
        }
      ]
    },
    {
      "cell_type": "markdown",
      "metadata": {
        "pycharm": {
          "name": "#%% md\n"
        },
        "id": "Azvos6KKJQA-"
      },
      "source": [
        "### Step 9. What is the type of the observations of the 105th column?"
      ]
    },
    {
      "cell_type": "code",
      "execution_count": null,
      "metadata": {
        "collapsed": true,
        "pycharm": {
          "name": "#%%\n"
        },
        "colab": {
          "base_uri": "https://localhost:8080/"
        },
        "id": "dLIkb-0yJQA-",
        "outputId": "8e69b839-6f94-449a-e13e-dea8aeec2748"
      },
      "outputs": [
        {
          "output_type": "stream",
          "name": "stdout",
          "text": [
            "Kiểu dữ liệu của cột 105: float64\n"
          ]
        }
      ],
      "source": [
        "print(\"Kiểu dữ liệu của cột 105:\", food[food.columns[104]].dtype)\n"
      ]
    },
    {
      "cell_type": "markdown",
      "metadata": {
        "pycharm": {
          "name": "#%% md\n"
        },
        "id": "AQUZ0Kb9JQA-"
      },
      "source": [
        "### Step 10. How is the dataset indexed?"
      ]
    },
    {
      "cell_type": "code",
      "execution_count": null,
      "metadata": {
        "collapsed": true,
        "pycharm": {
          "name": "#%%\n"
        },
        "colab": {
          "base_uri": "https://localhost:8080/"
        },
        "id": "9nuN2DAuJQA_",
        "outputId": "02bff0e4-a2fe-44aa-d5b0-7ba629dbe827"
      },
      "outputs": [
        {
          "output_type": "stream",
          "name": "stdout",
          "text": [
            "Chỉ số của dataset: RangeIndex(start=0, stop=69938, step=1)\n"
          ]
        }
      ],
      "source": [
        "print(\"Chỉ số của dataset:\", food.index)\n"
      ]
    },
    {
      "cell_type": "markdown",
      "metadata": {
        "pycharm": {
          "name": "#%% md\n"
        },
        "id": "9omUhGrEJQA_"
      },
      "source": [
        "### Step 11. What is the product name of the 19th observation?"
      ]
    },
    {
      "cell_type": "code",
      "execution_count": null,
      "metadata": {
        "collapsed": true,
        "pycharm": {
          "name": "#%%\n"
        },
        "colab": {
          "base_uri": "https://localhost:8080/"
        },
        "id": "xwi1bwe-JQA_",
        "outputId": "a07d72b3-b2d1-4e44-b577-b7f7a2114fd4"
      },
      "outputs": [
        {
          "output_type": "stream",
          "name": "stdout",
          "text": [
            "Tên sản phẩm ở dòng thứ 19: Lotus Organic Brown Jasmine Rice\n"
          ]
        }
      ],
      "source": [
        "print(\"Tên sản phẩm ở dòng thứ 19:\", food.loc[18, 'product_name'])\n"
      ]
    },
    {
      "cell_type": "code",
      "source": [
        "!git clone https://github.com/khanh-2004/Week3_pandas.git"
      ],
      "metadata": {
        "colab": {
          "base_uri": "https://localhost:8080/"
        },
        "id": "FCKrzRXAPh7a",
        "outputId": "4113756c-b08a-49de-ec2c-8b1330f36444"
      },
      "execution_count": 13,
      "outputs": [
        {
          "output_type": "stream",
          "name": "stdout",
          "text": [
            "Cloning into 'Week3_pandas'...\n",
            "warning: You appear to have cloned an empty repository.\n"
          ]
        }
      ]
    }
  ],
  "metadata": {
    "anaconda-cloud": {},
    "kernelspec": {
      "display_name": "Python [default]",
      "language": "python",
      "name": "python2"
    },
    "language_info": {
      "codemirror_mode": {
        "name": "ipython",
        "version": 2
      },
      "file_extension": ".py",
      "mimetype": "text/x-python",
      "name": "python",
      "nbconvert_exporter": "python",
      "pygments_lexer": "ipython2",
      "version": "2.7.12"
    },
    "colab": {
      "provenance": []
    }
  },
  "nbformat": 4,
  "nbformat_minor": 0
}