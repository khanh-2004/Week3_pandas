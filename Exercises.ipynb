{
  "cells": [
    {
      "cell_type": "markdown",
      "metadata": {
        "id": "view-in-github",
        "colab_type": "text"
      },
      "source": [
        "<a href=\"https://colab.research.google.com/github/khanh-2004/Week3_pandas/blob/main/Exercises.ipynb\" target=\"_parent\"><img src=\"https://colab.research.google.com/assets/colab-badge.svg\" alt=\"Open In Colab\"/></a>"
      ]
    },
    {
      "cell_type": "markdown",
      "metadata": {
        "pycharm": {
          "name": "#%% md\n"
        },
        "id": "yRKdbPp_TZ85"
      },
      "source": [
        "# Ex1 - Filtering and Sorting Data"
      ]
    },
    {
      "cell_type": "markdown",
      "metadata": {
        "pycharm": {
          "name": "#%% md\n"
        },
        "id": "KwxCapCTTZ87"
      },
      "source": [
        "This time we are going to pull data directly from the internet.\n",
        "Special thanks to: https://github.com/justmarkham for sharing the dataset and materials.\n",
        "\n",
        "### Step 1. Import the necessary libraries"
      ]
    },
    {
      "cell_type": "code",
      "execution_count": 1,
      "metadata": {
        "pycharm": {
          "name": "#%%\n",
          "is_executing": true
        },
        "id": "jcopSluMTZ87"
      },
      "outputs": [],
      "source": [
        "import pandas as pd\n"
      ]
    },
    {
      "cell_type": "markdown",
      "metadata": {
        "pycharm": {
          "name": "#%% md\n"
        },
        "id": "QC8It1ZvTZ88"
      },
      "source": [
        "### Step 2. Import the dataset from this [address](https://raw.githubusercontent.com/thieu1995/csv-files/main/data/pandas/chipotle.tsv)."
      ]
    },
    {
      "cell_type": "markdown",
      "metadata": {
        "pycharm": {
          "name": "#%% md\n"
        },
        "id": "24_CbH6ITZ88"
      },
      "source": [
        "### Step 3. Assign it to a variable called chipo."
      ]
    },
    {
      "cell_type": "code",
      "execution_count": 2,
      "metadata": {
        "pycharm": {
          "name": "#%%\n"
        },
        "id": "XxN1XpxNTZ88"
      },
      "outputs": [],
      "source": [
        "url = \"https://raw.githubusercontent.com/thieu1995/csv-files/main/data/pandas/chipotle.tsv\"\n",
        "chipo = pd.read_csv(url, sep='\\t')\n"
      ]
    },
    {
      "cell_type": "markdown",
      "metadata": {
        "pycharm": {
          "name": "#%% md\n"
        },
        "id": "ZJ0aoTRkTZ89"
      },
      "source": [
        "### Step 4. How many products cost more than $10.00?"
      ]
    },
    {
      "cell_type": "code",
      "execution_count": 3,
      "metadata": {
        "pycharm": {
          "name": "#%%\n"
        },
        "colab": {
          "base_uri": "https://localhost:8080/"
        },
        "id": "uLqhbg4aTZ89",
        "outputId": "5da2a9fd-04eb-4f50-c98f-b7567636ffb6"
      },
      "outputs": [
        {
          "output_type": "stream",
          "name": "stdout",
          "text": [
            "Số sản phẩm có giá > $10: 1130\n"
          ]
        }
      ],
      "source": [
        "# Chuyển đổi item_price từ chuỗi sang số\n",
        "chipo['item_price'] = chipo['item_price'].str.replace('$', '').astype(float)\n",
        "\n",
        "# Lọc các sản phẩm có giá > 10\n",
        "more_than_10 = chipo[chipo['item_price'] > 10.00]\n",
        "\n",
        "print(\"Số sản phẩm có giá > $10:\", more_than_10.shape[0])\n"
      ]
    },
    {
      "cell_type": "markdown",
      "metadata": {
        "pycharm": {
          "name": "#%% md\n"
        },
        "id": "8kXDnw6aTZ89"
      },
      "source": [
        "### Step 5. What is the price of each item?\n",
        "###### print a data frame with only two columns item_name and item_price"
      ]
    },
    {
      "cell_type": "code",
      "execution_count": 4,
      "metadata": {
        "pycharm": {
          "name": "#%%\n"
        },
        "colab": {
          "base_uri": "https://localhost:8080/"
        },
        "id": "JzqV-_dxTZ89",
        "outputId": "9647cef4-9091-41c8-9139-caac2baa3fd5"
      },
      "outputs": [
        {
          "output_type": "stream",
          "name": "stdout",
          "text": [
            "                               item_name  item_price\n",
            "0           Chips and Fresh Tomato Salsa        2.39\n",
            "1                                   Izze        3.39\n",
            "2                       Nantucket Nectar        3.39\n",
            "3  Chips and Tomatillo-Green Chili Salsa        2.39\n",
            "4                           Chicken Bowl       16.98\n"
          ]
        }
      ],
      "source": [
        "price_df = chipo[['item_name', 'item_price']]\n",
        "print(price_df.head())\n"
      ]
    },
    {
      "cell_type": "markdown",
      "metadata": {
        "pycharm": {
          "name": "#%% md\n"
        },
        "id": "dx7NbDiaTZ89"
      },
      "source": [
        "### Step 6. Sort by the name of the item"
      ]
    },
    {
      "cell_type": "code",
      "execution_count": 5,
      "metadata": {
        "pycharm": {
          "name": "#%%\n"
        },
        "colab": {
          "base_uri": "https://localhost:8080/"
        },
        "id": "Rt9bnMr1TZ8-",
        "outputId": "a0245b9b-34bc-4b06-c92c-954b7a3dde1f"
      },
      "outputs": [
        {
          "output_type": "stream",
          "name": "stdout",
          "text": [
            "              item_name  item_price\n",
            "3389  6 Pack Soft Drink       12.98\n",
            "341   6 Pack Soft Drink        6.49\n",
            "1849  6 Pack Soft Drink        6.49\n",
            "1860  6 Pack Soft Drink        6.49\n",
            "2713  6 Pack Soft Drink        6.49\n"
          ]
        }
      ],
      "source": [
        "sorted_chipo = chipo.sort_values(by='item_name')\n",
        "print(sorted_chipo[['item_name', 'item_price']].head())\n"
      ]
    },
    {
      "cell_type": "markdown",
      "metadata": {
        "pycharm": {
          "name": "#%% md\n"
        },
        "id": "hBZ47qn0TZ8-"
      },
      "source": [
        "### Step 7. What was the quantity of the most expensive item ordered?"
      ]
    },
    {
      "cell_type": "code",
      "execution_count": 6,
      "metadata": {
        "pycharm": {
          "name": "#%%\n"
        },
        "colab": {
          "base_uri": "https://localhost:8080/"
        },
        "id": "MTrWUIIYTZ8-",
        "outputId": "93b5ea66-8bfe-4f61-ca00-13ea650e4c9f"
      },
      "outputs": [
        {
          "output_type": "stream",
          "name": "stdout",
          "text": [
            "Sản phẩm đắt nhất và số lượng được đặt:\n",
            "                         item_name  quantity  item_price\n",
            "3598  Chips and Fresh Tomato Salsa        15       44.25\n"
          ]
        }
      ],
      "source": [
        "most_expensive = chipo[chipo['item_price'] == chipo['item_price'].max()]\n",
        "print(\"Sản phẩm đắt nhất và số lượng được đặt:\")\n",
        "print(most_expensive[['item_name', 'quantity', 'item_price']])\n"
      ]
    },
    {
      "cell_type": "markdown",
      "metadata": {
        "pycharm": {
          "name": "#%% md\n"
        },
        "id": "tNnavC4WTZ8-"
      },
      "source": [
        "### Step 8. How many times was a Veggie Salad Bowl ordered?"
      ]
    },
    {
      "cell_type": "code",
      "execution_count": 7,
      "metadata": {
        "pycharm": {
          "name": "#%%\n"
        },
        "colab": {
          "base_uri": "https://localhost:8080/"
        },
        "id": "kg1_1ConTZ8-",
        "outputId": "3b7bfa34-d844-46a2-efbf-62c97398ccbe"
      },
      "outputs": [
        {
          "output_type": "stream",
          "name": "stdout",
          "text": [
            "Veggie Salad Bowl được đặt: 18 lần\n"
          ]
        }
      ],
      "source": [
        "veggie_salad = chipo[chipo['item_name'] == 'Veggie Salad Bowl']\n",
        "print(\"Veggie Salad Bowl được đặt:\", veggie_salad.shape[0], \"lần\")\n"
      ]
    },
    {
      "cell_type": "markdown",
      "metadata": {
        "pycharm": {
          "name": "#%% md\n"
        },
        "id": "BXkKIbkGTZ8-"
      },
      "source": [
        "### Step 9. How many times did someone order more than one Canned Soda?"
      ]
    },
    {
      "cell_type": "code",
      "execution_count": 8,
      "metadata": {
        "pycharm": {
          "name": "#%%\n"
        },
        "colab": {
          "base_uri": "https://localhost:8080/"
        },
        "id": "fxl2-bugTZ8_",
        "outputId": "f98482c7-9c4b-4e71-bc52-c850efeef441"
      },
      "outputs": [
        {
          "output_type": "stream",
          "name": "stdout",
          "text": [
            "Số lần đặt Canned Soda > 1 lon: 20\n"
          ]
        }
      ],
      "source": [
        "canned_soda = chipo[(chipo['item_name'] == 'Canned Soda') & (chipo['quantity'] > 1)]\n",
        "print(\"Số lần đặt Canned Soda > 1 lon:\", canned_soda.shape[0])\n"
      ]
    }
  ],
  "metadata": {
    "kernelspec": {
      "display_name": "Python 2",
      "language": "python",
      "name": "python2"
    },
    "language_info": {
      "codemirror_mode": {
        "name": "ipython",
        "version": 2
      },
      "file_extension": ".py",
      "mimetype": "text/x-python",
      "name": "python",
      "nbconvert_exporter": "python",
      "pygments_lexer": "ipython2",
      "version": "2.7.11"
    },
    "colab": {
      "provenance": [],
      "include_colab_link": true
    }
  },
  "nbformat": 4,
  "nbformat_minor": 0
}